{
 "cells": [
  {
   "cell_type": "code",
   "execution_count": 1,
   "id": "eba1e3ee",
   "metadata": {},
   "outputs": [],
   "source": [
    "from tensorflow.keras.preprocessing.text import one_hot\n"
   ]
  },
  {
   "cell_type": "code",
   "execution_count": 2,
   "id": "fb3bd053",
   "metadata": {},
   "outputs": [],
   "source": [
    "### sentences\n",
    "sent = ['the glass of milk',\n",
    "        'the glass of juice',\n",
    "        'the cup of tea',\n",
    "        'I am a good boy',\n",
    "        ' I am a good developer',\n",
    "        'understand the meaning of words',\n",
    "        'your videos are good']"
   ]
  },
  {
   "cell_type": "code",
   "execution_count": 3,
   "id": "34560d68",
   "metadata": {},
   "outputs": [
    {
     "data": {
      "text/plain": [
       "['the glass of milk',\n",
       " 'the glass of juice',\n",
       " 'the cup of tea',\n",
       " 'I am a good boy',\n",
       " ' I am a good developer',\n",
       " 'understand the meaning of words',\n",
       " 'your videos are good']"
      ]
     },
     "execution_count": 3,
     "metadata": {},
     "output_type": "execute_result"
    }
   ],
   "source": [
    "sent"
   ]
  },
  {
   "cell_type": "code",
   "execution_count": 4,
   "id": "b324bdc7",
   "metadata": {},
   "outputs": [],
   "source": [
    "## Define the vocabulary size\n",
    "voc_size = 10000"
   ]
  },
  {
   "cell_type": "code",
   "execution_count": 6,
   "id": "1dcf6096",
   "metadata": {},
   "outputs": [
    {
     "data": {
      "text/plain": [
       "[[930, 2429, 7597, 7863],\n",
       " [930, 2429, 7597, 8321],\n",
       " [930, 8468, 7597, 2130],\n",
       " [2198, 7940, 7686, 5544, 828],\n",
       " [2198, 7940, 7686, 5544, 3363],\n",
       " [2588, 930, 9190, 7597, 7164],\n",
       " [2318, 2815, 3072, 5544]]"
      ]
     },
     "execution_count": 6,
     "metadata": {},
     "output_type": "execute_result"
    }
   ],
   "source": [
    "### One Hot Representation\n",
    "one_hot_repr = [one_hot(words,voc_size) for words in sent]\n",
    "one_hot_repr"
   ]
  },
  {
   "cell_type": "code",
   "execution_count": 8,
   "id": "46ad99c6",
   "metadata": {},
   "outputs": [],
   "source": [
    "## Word Embedding Representation\n",
    "\n",
    "from tensorflow.keras.layers import Embedding \n",
    "from tensorflow.keras.preprocessing.sequence import pad_sequences\n",
    "from tensorflow.keras.models import Sequential\n",
    "import numpy as np\n"
   ]
  },
  {
   "cell_type": "code",
   "execution_count": 9,
   "id": "cdd354f2",
   "metadata": {},
   "outputs": [
    {
     "name": "stdout",
     "output_type": "stream",
     "text": [
      "[[   0    0    0    0  930 2429 7597 7863]\n",
      " [   0    0    0    0  930 2429 7597 8321]\n",
      " [   0    0    0    0  930 8468 7597 2130]\n",
      " [   0    0    0 2198 7940 7686 5544  828]\n",
      " [   0    0    0 2198 7940 7686 5544 3363]\n",
      " [   0    0    0 2588  930 9190 7597 7164]\n",
      " [   0    0    0    0 2318 2815 3072 5544]]\n"
     ]
    }
   ],
   "source": [
    "sent_length = 8\n",
    "embedded_docs = pad_sequences(one_hot_repr,padding='pre',maxlen=sent_length)\n",
    "print(embedded_docs)"
   ]
  },
  {
   "cell_type": "code",
   "execution_count": 10,
   "id": "ea9afdf5",
   "metadata": {},
   "outputs": [],
   "source": [
    "## Feature Represantation\n",
    "dim = 10"
   ]
  },
  {
   "cell_type": "code",
   "execution_count": 12,
   "id": "a0f3f166",
   "metadata": {},
   "outputs": [],
   "source": [
    "model = Sequential()\n",
    "model.add(Embedding(voc_size,dim,input_length=sent_length))\n",
    "model.compile('adam','mse')"
   ]
  },
  {
   "cell_type": "code",
   "execution_count": 13,
   "id": "1f36ad5c",
   "metadata": {},
   "outputs": [
    {
     "data": {
      "text/html": [
       "<pre style=\"white-space:pre;overflow-x:auto;line-height:normal;font-family:Menlo,'DejaVu Sans Mono',consolas,'Courier New',monospace\"><span style=\"font-weight: bold\">Model: \"sequential_1\"</span>\n",
       "</pre>\n"
      ],
      "text/plain": [
       "\u001b[1mModel: \"sequential_1\"\u001b[0m\n"
      ]
     },
     "metadata": {},
     "output_type": "display_data"
    },
    {
     "data": {
      "text/html": [
       "<pre style=\"white-space:pre;overflow-x:auto;line-height:normal;font-family:Menlo,'DejaVu Sans Mono',consolas,'Courier New',monospace\">┏━━━━━━━━━━━━━━━━━━━━━━━━━━━━━━━━━┳━━━━━━━━━━━━━━━━━━━━━━━━┳━━━━━━━━━━━━━━━┓\n",
       "┃<span style=\"font-weight: bold\"> Layer (type)                    </span>┃<span style=\"font-weight: bold\"> Output Shape           </span>┃<span style=\"font-weight: bold\">       Param # </span>┃\n",
       "┡━━━━━━━━━━━━━━━━━━━━━━━━━━━━━━━━━╇━━━━━━━━━━━━━━━━━━━━━━━━╇━━━━━━━━━━━━━━━┩\n",
       "│ embedding_1 (<span style=\"color: #0087ff; text-decoration-color: #0087ff\">Embedding</span>)         │ ?                      │   <span style=\"color: #00af00; text-decoration-color: #00af00\">0</span> (unbuilt) │\n",
       "└─────────────────────────────────┴────────────────────────┴───────────────┘\n",
       "</pre>\n"
      ],
      "text/plain": [
       "┏━━━━━━━━━━━━━━━━━━━━━━━━━━━━━━━━━┳━━━━━━━━━━━━━━━━━━━━━━━━┳━━━━━━━━━━━━━━━┓\n",
       "┃\u001b[1m \u001b[0m\u001b[1mLayer (type)                   \u001b[0m\u001b[1m \u001b[0m┃\u001b[1m \u001b[0m\u001b[1mOutput Shape          \u001b[0m\u001b[1m \u001b[0m┃\u001b[1m \u001b[0m\u001b[1m      Param #\u001b[0m\u001b[1m \u001b[0m┃\n",
       "┡━━━━━━━━━━━━━━━━━━━━━━━━━━━━━━━━━╇━━━━━━━━━━━━━━━━━━━━━━━━╇━━━━━━━━━━━━━━━┩\n",
       "│ embedding_1 (\u001b[38;5;33mEmbedding\u001b[0m)         │ ?                      │   \u001b[38;5;34m0\u001b[0m (unbuilt) │\n",
       "└─────────────────────────────────┴────────────────────────┴───────────────┘\n"
      ]
     },
     "metadata": {},
     "output_type": "display_data"
    },
    {
     "data": {
      "text/html": [
       "<pre style=\"white-space:pre;overflow-x:auto;line-height:normal;font-family:Menlo,'DejaVu Sans Mono',consolas,'Courier New',monospace\"><span style=\"font-weight: bold\"> Total params: </span><span style=\"color: #00af00; text-decoration-color: #00af00\">0</span> (0.00 B)\n",
       "</pre>\n"
      ],
      "text/plain": [
       "\u001b[1m Total params: \u001b[0m\u001b[38;5;34m0\u001b[0m (0.00 B)\n"
      ]
     },
     "metadata": {},
     "output_type": "display_data"
    },
    {
     "data": {
      "text/html": [
       "<pre style=\"white-space:pre;overflow-x:auto;line-height:normal;font-family:Menlo,'DejaVu Sans Mono',consolas,'Courier New',monospace\"><span style=\"font-weight: bold\"> Trainable params: </span><span style=\"color: #00af00; text-decoration-color: #00af00\">0</span> (0.00 B)\n",
       "</pre>\n"
      ],
      "text/plain": [
       "\u001b[1m Trainable params: \u001b[0m\u001b[38;5;34m0\u001b[0m (0.00 B)\n"
      ]
     },
     "metadata": {},
     "output_type": "display_data"
    },
    {
     "data": {
      "text/html": [
       "<pre style=\"white-space:pre;overflow-x:auto;line-height:normal;font-family:Menlo,'DejaVu Sans Mono',consolas,'Courier New',monospace\"><span style=\"font-weight: bold\"> Non-trainable params: </span><span style=\"color: #00af00; text-decoration-color: #00af00\">0</span> (0.00 B)\n",
       "</pre>\n"
      ],
      "text/plain": [
       "\u001b[1m Non-trainable params: \u001b[0m\u001b[38;5;34m0\u001b[0m (0.00 B)\n"
      ]
     },
     "metadata": {},
     "output_type": "display_data"
    }
   ],
   "source": [
    "model.summary()"
   ]
  },
  {
   "cell_type": "code",
   "execution_count": 14,
   "id": "22c64699",
   "metadata": {},
   "outputs": [
    {
     "name": "stdout",
     "output_type": "stream",
     "text": [
      "\u001b[1m1/1\u001b[0m \u001b[32m━━━━━━━━━━━━━━━━━━━━\u001b[0m\u001b[37m\u001b[0m \u001b[1m0s\u001b[0m 240ms/step\n"
     ]
    },
    {
     "data": {
      "text/plain": [
       "array([[[ 0.04887338,  0.00593141,  0.03215629,  0.03374498,\n",
       "         -0.01489007,  0.01972054, -0.02227647, -0.02662877,\n",
       "         -0.04886966,  0.04494324],\n",
       "        [ 0.04887338,  0.00593141,  0.03215629,  0.03374498,\n",
       "         -0.01489007,  0.01972054, -0.02227647, -0.02662877,\n",
       "         -0.04886966,  0.04494324],\n",
       "        [ 0.04887338,  0.00593141,  0.03215629,  0.03374498,\n",
       "         -0.01489007,  0.01972054, -0.02227647, -0.02662877,\n",
       "         -0.04886966,  0.04494324],\n",
       "        [ 0.04887338,  0.00593141,  0.03215629,  0.03374498,\n",
       "         -0.01489007,  0.01972054, -0.02227647, -0.02662877,\n",
       "         -0.04886966,  0.04494324],\n",
       "        [ 0.02223775, -0.01896232,  0.02713741, -0.01889645,\n",
       "          0.03564775, -0.0440696 ,  0.00599293, -0.04231262,\n",
       "         -0.02159449, -0.03993592],\n",
       "        [-0.01992686,  0.02921707,  0.01077738,  0.01358188,\n",
       "          0.02298713,  0.04242455, -0.03941966, -0.01612805,\n",
       "         -0.01409112, -0.00856077],\n",
       "        [-0.0120541 ,  0.00852904,  0.02881876, -0.03925586,\n",
       "         -0.00944902,  0.00303507,  0.02050365,  0.00397768,\n",
       "          0.00850578,  0.04648292],\n",
       "        [-0.01656363,  0.02312442,  0.01722622,  0.00030594,\n",
       "          0.04092927,  0.03515312,  0.02215901, -0.01025791,\n",
       "          0.04882722, -0.02171125]],\n",
       "\n",
       "       [[ 0.04887338,  0.00593141,  0.03215629,  0.03374498,\n",
       "         -0.01489007,  0.01972054, -0.02227647, -0.02662877,\n",
       "         -0.04886966,  0.04494324],\n",
       "        [ 0.04887338,  0.00593141,  0.03215629,  0.03374498,\n",
       "         -0.01489007,  0.01972054, -0.02227647, -0.02662877,\n",
       "         -0.04886966,  0.04494324],\n",
       "        [ 0.04887338,  0.00593141,  0.03215629,  0.03374498,\n",
       "         -0.01489007,  0.01972054, -0.02227647, -0.02662877,\n",
       "         -0.04886966,  0.04494324],\n",
       "        [ 0.04887338,  0.00593141,  0.03215629,  0.03374498,\n",
       "         -0.01489007,  0.01972054, -0.02227647, -0.02662877,\n",
       "         -0.04886966,  0.04494324],\n",
       "        [ 0.02223775, -0.01896232,  0.02713741, -0.01889645,\n",
       "          0.03564775, -0.0440696 ,  0.00599293, -0.04231262,\n",
       "         -0.02159449, -0.03993592],\n",
       "        [-0.01992686,  0.02921707,  0.01077738,  0.01358188,\n",
       "          0.02298713,  0.04242455, -0.03941966, -0.01612805,\n",
       "         -0.01409112, -0.00856077],\n",
       "        [-0.0120541 ,  0.00852904,  0.02881876, -0.03925586,\n",
       "         -0.00944902,  0.00303507,  0.02050365,  0.00397768,\n",
       "          0.00850578,  0.04648292],\n",
       "        [ 0.04181131, -0.04627812, -0.00286258,  0.03162474,\n",
       "          0.00223323,  0.02437804, -0.03299608, -0.02666514,\n",
       "         -0.02129347,  0.04378361]],\n",
       "\n",
       "       [[ 0.04887338,  0.00593141,  0.03215629,  0.03374498,\n",
       "         -0.01489007,  0.01972054, -0.02227647, -0.02662877,\n",
       "         -0.04886966,  0.04494324],\n",
       "        [ 0.04887338,  0.00593141,  0.03215629,  0.03374498,\n",
       "         -0.01489007,  0.01972054, -0.02227647, -0.02662877,\n",
       "         -0.04886966,  0.04494324],\n",
       "        [ 0.04887338,  0.00593141,  0.03215629,  0.03374498,\n",
       "         -0.01489007,  0.01972054, -0.02227647, -0.02662877,\n",
       "         -0.04886966,  0.04494324],\n",
       "        [ 0.04887338,  0.00593141,  0.03215629,  0.03374498,\n",
       "         -0.01489007,  0.01972054, -0.02227647, -0.02662877,\n",
       "         -0.04886966,  0.04494324],\n",
       "        [ 0.02223775, -0.01896232,  0.02713741, -0.01889645,\n",
       "          0.03564775, -0.0440696 ,  0.00599293, -0.04231262,\n",
       "         -0.02159449, -0.03993592],\n",
       "        [ 0.04856965, -0.04185919, -0.02467369, -0.01732766,\n",
       "          0.03484074,  0.03308344, -0.00408984,  0.03474695,\n",
       "         -0.04843717, -0.04051412],\n",
       "        [-0.0120541 ,  0.00852904,  0.02881876, -0.03925586,\n",
       "         -0.00944902,  0.00303507,  0.02050365,  0.00397768,\n",
       "          0.00850578,  0.04648292],\n",
       "        [ 0.0345107 , -0.03554337,  0.03945111,  0.04753153,\n",
       "         -0.0458579 , -0.01652584,  0.0495919 , -0.03635887,\n",
       "          0.01315482,  0.0050403 ]],\n",
       "\n",
       "       [[ 0.04887338,  0.00593141,  0.03215629,  0.03374498,\n",
       "         -0.01489007,  0.01972054, -0.02227647, -0.02662877,\n",
       "         -0.04886966,  0.04494324],\n",
       "        [ 0.04887338,  0.00593141,  0.03215629,  0.03374498,\n",
       "         -0.01489007,  0.01972054, -0.02227647, -0.02662877,\n",
       "         -0.04886966,  0.04494324],\n",
       "        [ 0.04887338,  0.00593141,  0.03215629,  0.03374498,\n",
       "         -0.01489007,  0.01972054, -0.02227647, -0.02662877,\n",
       "         -0.04886966,  0.04494324],\n",
       "        [-0.0090602 ,  0.04392288, -0.03003879, -0.04892803,\n",
       "         -0.01141174,  0.02073708, -0.01468112,  0.04754546,\n",
       "          0.01537223, -0.02609554],\n",
       "        [-0.03908361,  0.04325323, -0.00332661,  0.01146882,\n",
       "          0.01385866, -0.00626066, -0.02608819, -0.01621212,\n",
       "          0.02925054,  0.01326383],\n",
       "        [ 0.0480387 ,  0.01019404, -0.02591853, -0.03986822,\n",
       "         -0.01963333,  0.03596244,  0.01209731, -0.01027521,\n",
       "          0.02253376, -0.04062035],\n",
       "        [ 0.03033504, -0.01596037, -0.04456219,  0.01968039,\n",
       "         -0.03101221, -0.01811997, -0.01277211, -0.0233268 ,\n",
       "          0.01010846,  0.04449936],\n",
       "        [-0.01016277, -0.03051239,  0.03116981, -0.01091545,\n",
       "          0.02039042,  0.02384675,  0.03736204,  0.02232243,\n",
       "          0.04132091, -0.00729592]],\n",
       "\n",
       "       [[ 0.04887338,  0.00593141,  0.03215629,  0.03374498,\n",
       "         -0.01489007,  0.01972054, -0.02227647, -0.02662877,\n",
       "         -0.04886966,  0.04494324],\n",
       "        [ 0.04887338,  0.00593141,  0.03215629,  0.03374498,\n",
       "         -0.01489007,  0.01972054, -0.02227647, -0.02662877,\n",
       "         -0.04886966,  0.04494324],\n",
       "        [ 0.04887338,  0.00593141,  0.03215629,  0.03374498,\n",
       "         -0.01489007,  0.01972054, -0.02227647, -0.02662877,\n",
       "         -0.04886966,  0.04494324],\n",
       "        [-0.0090602 ,  0.04392288, -0.03003879, -0.04892803,\n",
       "         -0.01141174,  0.02073708, -0.01468112,  0.04754546,\n",
       "          0.01537223, -0.02609554],\n",
       "        [-0.03908361,  0.04325323, -0.00332661,  0.01146882,\n",
       "          0.01385866, -0.00626066, -0.02608819, -0.01621212,\n",
       "          0.02925054,  0.01326383],\n",
       "        [ 0.0480387 ,  0.01019404, -0.02591853, -0.03986822,\n",
       "         -0.01963333,  0.03596244,  0.01209731, -0.01027521,\n",
       "          0.02253376, -0.04062035],\n",
       "        [ 0.03033504, -0.01596037, -0.04456219,  0.01968039,\n",
       "         -0.03101221, -0.01811997, -0.01277211, -0.0233268 ,\n",
       "          0.01010846,  0.04449936],\n",
       "        [-0.01486653,  0.00892989, -0.04735303, -0.03673669,\n",
       "          0.04449486, -0.01339419, -0.03248986,  0.04473433,\n",
       "          0.03403969,  0.02610506]],\n",
       "\n",
       "       [[ 0.04887338,  0.00593141,  0.03215629,  0.03374498,\n",
       "         -0.01489007,  0.01972054, -0.02227647, -0.02662877,\n",
       "         -0.04886966,  0.04494324],\n",
       "        [ 0.04887338,  0.00593141,  0.03215629,  0.03374498,\n",
       "         -0.01489007,  0.01972054, -0.02227647, -0.02662877,\n",
       "         -0.04886966,  0.04494324],\n",
       "        [ 0.04887338,  0.00593141,  0.03215629,  0.03374498,\n",
       "         -0.01489007,  0.01972054, -0.02227647, -0.02662877,\n",
       "         -0.04886966,  0.04494324],\n",
       "        [ 0.03431768, -0.00820986, -0.01627388,  0.02562569,\n",
       "         -0.02930354,  0.01290158,  0.03017149, -0.00200517,\n",
       "          0.03345186,  0.03067955],\n",
       "        [ 0.02223775, -0.01896232,  0.02713741, -0.01889645,\n",
       "          0.03564775, -0.0440696 ,  0.00599293, -0.04231262,\n",
       "         -0.02159449, -0.03993592],\n",
       "        [ 0.00263759,  0.04591518,  0.04817203, -0.01517091,\n",
       "          0.02771721,  0.03050308,  0.02293592,  0.02267834,\n",
       "         -0.01534618,  0.02438141],\n",
       "        [-0.0120541 ,  0.00852904,  0.02881876, -0.03925586,\n",
       "         -0.00944902,  0.00303507,  0.02050365,  0.00397768,\n",
       "          0.00850578,  0.04648292],\n",
       "        [-0.01170824,  0.03392906,  0.02839096, -0.01133849,\n",
       "          0.00309656,  0.0371313 ,  0.00699673, -0.01888629,\n",
       "         -0.00021023,  0.00932718]],\n",
       "\n",
       "       [[ 0.04887338,  0.00593141,  0.03215629,  0.03374498,\n",
       "         -0.01489007,  0.01972054, -0.02227647, -0.02662877,\n",
       "         -0.04886966,  0.04494324],\n",
       "        [ 0.04887338,  0.00593141,  0.03215629,  0.03374498,\n",
       "         -0.01489007,  0.01972054, -0.02227647, -0.02662877,\n",
       "         -0.04886966,  0.04494324],\n",
       "        [ 0.04887338,  0.00593141,  0.03215629,  0.03374498,\n",
       "         -0.01489007,  0.01972054, -0.02227647, -0.02662877,\n",
       "         -0.04886966,  0.04494324],\n",
       "        [ 0.04887338,  0.00593141,  0.03215629,  0.03374498,\n",
       "         -0.01489007,  0.01972054, -0.02227647, -0.02662877,\n",
       "         -0.04886966,  0.04494324],\n",
       "        [ 0.03651534,  0.00977751,  0.03734188,  0.04071564,\n",
       "          0.02711229, -0.01265983, -0.04362581,  0.00613321,\n",
       "          0.04117287, -0.01962667],\n",
       "        [ 0.03526283, -0.0462382 ,  0.02853166,  0.00052366,\n",
       "          0.04893985, -0.04403323,  0.01260375,  0.02027896,\n",
       "         -0.03772534,  0.03157956],\n",
       "        [-0.01811613, -0.02094737, -0.04042692, -0.02629822,\n",
       "         -0.00521096, -0.02397758,  0.01388035,  0.04146972,\n",
       "         -0.02830355, -0.0083525 ],\n",
       "        [ 0.03033504, -0.01596037, -0.04456219,  0.01968039,\n",
       "         -0.03101221, -0.01811997, -0.01277211, -0.0233268 ,\n",
       "          0.01010846,  0.04449936]]], dtype=float32)"
      ]
     },
     "execution_count": 14,
     "metadata": {},
     "output_type": "execute_result"
    }
   ],
   "source": [
    "model.predict(embedded_docs)"
   ]
  },
  {
   "cell_type": "code",
   "execution_count": 18,
   "id": "76648262",
   "metadata": {},
   "outputs": [
    {
     "ename": "ValueError",
     "evalue": "Exception encountered when calling Sequential.call().\n\n\u001b[1mCannot take the length of shape with unknown rank.\u001b[0m\n\nArguments received by Sequential.call():\n  • inputs=tf.Tensor(shape=<unknown>, dtype=int32)\n  • training=False\n  • mask=None\n  • kwargs=<class 'inspect._empty'>",
     "output_type": "error",
     "traceback": [
      "\u001b[31m---------------------------------------------------------------------------\u001b[39m",
      "\u001b[31mValueError\u001b[39m                                Traceback (most recent call last)",
      "\u001b[36mCell\u001b[39m\u001b[36m \u001b[39m\u001b[32mIn[18]\u001b[39m\u001b[32m, line 1\u001b[39m\n\u001b[32m----> \u001b[39m\u001b[32m1\u001b[39m \u001b[43mmodel\u001b[49m\u001b[43m.\u001b[49m\u001b[43mpredict\u001b[49m\u001b[43m(\u001b[49m\u001b[43membedded_docs\u001b[49m\u001b[43m[\u001b[49m\u001b[32;43m0\u001b[39;49m\u001b[43m]\u001b[49m\u001b[43m)\u001b[49m\n",
      "\u001b[36mFile \u001b[39m\u001b[32mc:\\Users\\Anushree Thakur\\Complete Data Science By Krish Naik\\DL Project Using ANN\\venv\\Lib\\site-packages\\keras\\src\\utils\\traceback_utils.py:122\u001b[39m, in \u001b[36mfilter_traceback.<locals>.error_handler\u001b[39m\u001b[34m(*args, **kwargs)\u001b[39m\n\u001b[32m    119\u001b[39m     filtered_tb = _process_traceback_frames(e.__traceback__)\n\u001b[32m    120\u001b[39m     \u001b[38;5;66;03m# To get the full stack trace, call:\u001b[39;00m\n\u001b[32m    121\u001b[39m     \u001b[38;5;66;03m# `keras.config.disable_traceback_filtering()`\u001b[39;00m\n\u001b[32m--> \u001b[39m\u001b[32m122\u001b[39m     \u001b[38;5;28;01mraise\u001b[39;00m e.with_traceback(filtered_tb) \u001b[38;5;28;01mfrom\u001b[39;00m\u001b[38;5;250m \u001b[39m\u001b[38;5;28;01mNone\u001b[39;00m\n\u001b[32m    123\u001b[39m \u001b[38;5;28;01mfinally\u001b[39;00m:\n\u001b[32m    124\u001b[39m     \u001b[38;5;28;01mdel\u001b[39;00m filtered_tb\n",
      "\u001b[36mFile \u001b[39m\u001b[32mc:\\Users\\Anushree Thakur\\Complete Data Science By Krish Naik\\DL Project Using ANN\\venv\\Lib\\site-packages\\keras\\src\\utils\\traceback_utils.py:122\u001b[39m, in \u001b[36mfilter_traceback.<locals>.error_handler\u001b[39m\u001b[34m(*args, **kwargs)\u001b[39m\n\u001b[32m    119\u001b[39m     filtered_tb = _process_traceback_frames(e.__traceback__)\n\u001b[32m    120\u001b[39m     \u001b[38;5;66;03m# To get the full stack trace, call:\u001b[39;00m\n\u001b[32m    121\u001b[39m     \u001b[38;5;66;03m# `keras.config.disable_traceback_filtering()`\u001b[39;00m\n\u001b[32m--> \u001b[39m\u001b[32m122\u001b[39m     \u001b[38;5;28;01mraise\u001b[39;00m e.with_traceback(filtered_tb) \u001b[38;5;28;01mfrom\u001b[39;00m\u001b[38;5;250m \u001b[39m\u001b[38;5;28;01mNone\u001b[39;00m\n\u001b[32m    123\u001b[39m \u001b[38;5;28;01mfinally\u001b[39;00m:\n\u001b[32m    124\u001b[39m     \u001b[38;5;28;01mdel\u001b[39;00m filtered_tb\n",
      "\u001b[31mValueError\u001b[39m: Exception encountered when calling Sequential.call().\n\n\u001b[1mCannot take the length of shape with unknown rank.\u001b[0m\n\nArguments received by Sequential.call():\n  • inputs=tf.Tensor(shape=<unknown>, dtype=int32)\n  • training=False\n  • mask=None\n  • kwargs=<class 'inspect._empty'>"
     ]
    }
   ],
   "source": [
    "model.predict(embedded_docs[0])"
   ]
  },
  {
   "cell_type": "code",
   "execution_count": null,
   "id": "30212d63",
   "metadata": {},
   "outputs": [],
   "source": []
  }
 ],
 "metadata": {
  "kernelspec": {
   "display_name": "Python 3",
   "language": "python",
   "name": "python3"
  },
  "language_info": {
   "codemirror_mode": {
    "name": "ipython",
    "version": 3
   },
   "file_extension": ".py",
   "mimetype": "text/x-python",
   "name": "python",
   "nbconvert_exporter": "python",
   "pygments_lexer": "ipython3",
   "version": "3.11.0"
  }
 },
 "nbformat": 4,
 "nbformat_minor": 5
}
