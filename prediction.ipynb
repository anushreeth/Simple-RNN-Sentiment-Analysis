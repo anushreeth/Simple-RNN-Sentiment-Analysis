{
 "cells": [
  {
   "cell_type": "code",
   "execution_count": 1,
   "id": "9c80dbe8",
   "metadata": {},
   "outputs": [],
   "source": [
    "import numpy as np\n",
    "import tensorflow as tf \n",
    "from tensorflow.keras.datasets import imdb\n",
    "from tensorflow.keras.preprocessing import sequence\n",
    "from tensorflow.keras.models import load_model"
   ]
  },
  {
   "cell_type": "code",
   "execution_count": 2,
   "id": "6b594d35",
   "metadata": {},
   "outputs": [],
   "source": [
    "#Load the IMDB dataset word index\n",
    "\n",
    "word_index = imdb.get_word_index()\n",
    "reverse_word_index = {value: key for key, value in word_index.items()}"
   ]
  },
  {
   "cell_type": "code",
   "execution_count": 3,
   "id": "8ee54688",
   "metadata": {},
   "outputs": [
    {
     "name": "stderr",
     "output_type": "stream",
     "text": [
      "WARNING:absl:Compiled the loaded model, but the compiled metrics have yet to be built. `model.compile_metrics` will be empty until you train or evaluate the model.\n"
     ]
    },
    {
     "data": {
      "text/html": [
       "<pre style=\"white-space:pre;overflow-x:auto;line-height:normal;font-family:Menlo,'DejaVu Sans Mono',consolas,'Courier New',monospace\"><span style=\"font-weight: bold\">Model: \"sequential_6\"</span>\n",
       "</pre>\n"
      ],
      "text/plain": [
       "\u001b[1mModel: \"sequential_6\"\u001b[0m\n"
      ]
     },
     "metadata": {},
     "output_type": "display_data"
    },
    {
     "data": {
      "text/html": [
       "<pre style=\"white-space:pre;overflow-x:auto;line-height:normal;font-family:Menlo,'DejaVu Sans Mono',consolas,'Courier New',monospace\">┏━━━━━━━━━━━━━━━━━━━━━━━━━━━━━━━━━┳━━━━━━━━━━━━━━━━━━━━━━━━┳━━━━━━━━━━━━━━━┓\n",
       "┃<span style=\"font-weight: bold\"> Layer (type)                    </span>┃<span style=\"font-weight: bold\"> Output Shape           </span>┃<span style=\"font-weight: bold\">       Param # </span>┃\n",
       "┡━━━━━━━━━━━━━━━━━━━━━━━━━━━━━━━━━╇━━━━━━━━━━━━━━━━━━━━━━━━╇━━━━━━━━━━━━━━━┩\n",
       "│ embedding_6 (<span style=\"color: #0087ff; text-decoration-color: #0087ff\">Embedding</span>)         │ (<span style=\"color: #00af00; text-decoration-color: #00af00\">32</span>, <span style=\"color: #00af00; text-decoration-color: #00af00\">500</span>, <span style=\"color: #00af00; text-decoration-color: #00af00\">128</span>)         │     <span style=\"color: #00af00; text-decoration-color: #00af00\">1,280,000</span> │\n",
       "├─────────────────────────────────┼────────────────────────┼───────────────┤\n",
       "│ simple_rnn_5 (<span style=\"color: #0087ff; text-decoration-color: #0087ff\">SimpleRNN</span>)        │ (<span style=\"color: #00af00; text-decoration-color: #00af00\">32</span>, <span style=\"color: #00af00; text-decoration-color: #00af00\">128</span>)              │        <span style=\"color: #00af00; text-decoration-color: #00af00\">32,896</span> │\n",
       "├─────────────────────────────────┼────────────────────────┼───────────────┤\n",
       "│ dense_5 (<span style=\"color: #0087ff; text-decoration-color: #0087ff\">Dense</span>)                 │ (<span style=\"color: #00af00; text-decoration-color: #00af00\">32</span>, <span style=\"color: #00af00; text-decoration-color: #00af00\">1</span>)                │           <span style=\"color: #00af00; text-decoration-color: #00af00\">129</span> │\n",
       "└─────────────────────────────────┴────────────────────────┴───────────────┘\n",
       "</pre>\n"
      ],
      "text/plain": [
       "┏━━━━━━━━━━━━━━━━━━━━━━━━━━━━━━━━━┳━━━━━━━━━━━━━━━━━━━━━━━━┳━━━━━━━━━━━━━━━┓\n",
       "┃\u001b[1m \u001b[0m\u001b[1mLayer (type)                   \u001b[0m\u001b[1m \u001b[0m┃\u001b[1m \u001b[0m\u001b[1mOutput Shape          \u001b[0m\u001b[1m \u001b[0m┃\u001b[1m \u001b[0m\u001b[1m      Param #\u001b[0m\u001b[1m \u001b[0m┃\n",
       "┡━━━━━━━━━━━━━━━━━━━━━━━━━━━━━━━━━╇━━━━━━━━━━━━━━━━━━━━━━━━╇━━━━━━━━━━━━━━━┩\n",
       "│ embedding_6 (\u001b[38;5;33mEmbedding\u001b[0m)         │ (\u001b[38;5;34m32\u001b[0m, \u001b[38;5;34m500\u001b[0m, \u001b[38;5;34m128\u001b[0m)         │     \u001b[38;5;34m1,280,000\u001b[0m │\n",
       "├─────────────────────────────────┼────────────────────────┼───────────────┤\n",
       "│ simple_rnn_5 (\u001b[38;5;33mSimpleRNN\u001b[0m)        │ (\u001b[38;5;34m32\u001b[0m, \u001b[38;5;34m128\u001b[0m)              │        \u001b[38;5;34m32,896\u001b[0m │\n",
       "├─────────────────────────────────┼────────────────────────┼───────────────┤\n",
       "│ dense_5 (\u001b[38;5;33mDense\u001b[0m)                 │ (\u001b[38;5;34m32\u001b[0m, \u001b[38;5;34m1\u001b[0m)                │           \u001b[38;5;34m129\u001b[0m │\n",
       "└─────────────────────────────────┴────────────────────────┴───────────────┘\n"
      ]
     },
     "metadata": {},
     "output_type": "display_data"
    },
    {
     "data": {
      "text/html": [
       "<pre style=\"white-space:pre;overflow-x:auto;line-height:normal;font-family:Menlo,'DejaVu Sans Mono',consolas,'Courier New',monospace\"><span style=\"font-weight: bold\"> Total params: </span><span style=\"color: #00af00; text-decoration-color: #00af00\">1,313,027</span> (5.01 MB)\n",
       "</pre>\n"
      ],
      "text/plain": [
       "\u001b[1m Total params: \u001b[0m\u001b[38;5;34m1,313,027\u001b[0m (5.01 MB)\n"
      ]
     },
     "metadata": {},
     "output_type": "display_data"
    },
    {
     "data": {
      "text/html": [
       "<pre style=\"white-space:pre;overflow-x:auto;line-height:normal;font-family:Menlo,'DejaVu Sans Mono',consolas,'Courier New',monospace\"><span style=\"font-weight: bold\"> Trainable params: </span><span style=\"color: #00af00; text-decoration-color: #00af00\">1,313,025</span> (5.01 MB)\n",
       "</pre>\n"
      ],
      "text/plain": [
       "\u001b[1m Trainable params: \u001b[0m\u001b[38;5;34m1,313,025\u001b[0m (5.01 MB)\n"
      ]
     },
     "metadata": {},
     "output_type": "display_data"
    },
    {
     "data": {
      "text/html": [
       "<pre style=\"white-space:pre;overflow-x:auto;line-height:normal;font-family:Menlo,'DejaVu Sans Mono',consolas,'Courier New',monospace\"><span style=\"font-weight: bold\"> Non-trainable params: </span><span style=\"color: #00af00; text-decoration-color: #00af00\">0</span> (0.00 B)\n",
       "</pre>\n"
      ],
      "text/plain": [
       "\u001b[1m Non-trainable params: \u001b[0m\u001b[38;5;34m0\u001b[0m (0.00 B)\n"
      ]
     },
     "metadata": {},
     "output_type": "display_data"
    },
    {
     "data": {
      "text/html": [
       "<pre style=\"white-space:pre;overflow-x:auto;line-height:normal;font-family:Menlo,'DejaVu Sans Mono',consolas,'Courier New',monospace\"><span style=\"font-weight: bold\"> Optimizer params: </span><span style=\"color: #00af00; text-decoration-color: #00af00\">2</span> (12.00 B)\n",
       "</pre>\n"
      ],
      "text/plain": [
       "\u001b[1m Optimizer params: \u001b[0m\u001b[38;5;34m2\u001b[0m (12.00 B)\n"
      ]
     },
     "metadata": {},
     "output_type": "display_data"
    }
   ],
   "source": [
    "# Load the pre-trained model with ReLU activation\n",
    "model = load_model('simple_rnn_imdb.h5')\n",
    "model.summary()"
   ]
  },
  {
   "cell_type": "code",
   "execution_count": 4,
   "id": "dc9307ef",
   "metadata": {},
   "outputs": [
    {
     "data": {
      "text/plain": [
       "[array([[ 0.01664445,  0.04764967,  0.0724955 , ...,  0.00977368,\n",
       "         -0.02676841,  0.03972311],\n",
       "        [-0.00704064,  0.03314238,  0.0154658 , ..., -0.03787038,\n",
       "          0.00419479,  0.03252497],\n",
       "        [ 0.03002613,  0.07741551,  0.02470569, ..., -0.09194986,\n",
       "         -0.09256308,  0.00244358],\n",
       "        ...,\n",
       "        [ 0.00362403, -0.02144269, -0.02339232, ..., -0.01443236,\n",
       "          0.00061245, -0.02094823],\n",
       "        [-0.00283576, -0.05628029, -0.01206314, ...,  0.01310333,\n",
       "          0.05025053, -0.00412433],\n",
       "        [-0.03424267, -0.02046046, -0.03432588, ...,  0.03614697,\n",
       "         -0.00194103,  0.02214945]], dtype=float32),\n",
       " array([[ 0.13129188, -0.13990194, -0.04154371, ..., -0.04017537,\n",
       "          0.09559575,  0.13749856],\n",
       "        [-0.14198169,  0.04225804, -0.0359685 , ..., -0.12091737,\n",
       "         -0.03709199, -0.14541203],\n",
       "        [-0.06259694,  0.03977574, -0.1078375 , ...,  0.09158716,\n",
       "          0.03228188,  0.07787149],\n",
       "        ...,\n",
       "        [ 0.14296505, -0.12356899,  0.1500224 , ..., -0.08809391,\n",
       "          0.01911998,  0.03322745],\n",
       "        [-0.04501717,  0.11135221,  0.02793674, ..., -0.1349318 ,\n",
       "         -0.03326757,  0.16383025],\n",
       "        [ 0.12659015,  0.05517785, -0.1625405 , ...,  0.09653736,\n",
       "          0.14054327,  0.13498078]], dtype=float32),\n",
       " array([[-0.10621246, -0.16828799, -0.17130029, ...,  0.0273313 ,\n",
       "         -0.12190291, -0.06874291],\n",
       "        [-0.04906055,  0.31001335, -0.10543899, ..., -0.04224055,\n",
       "         -0.02593142,  0.11732089],\n",
       "        [-0.00046202, -0.05975118, -0.09997705, ...,  0.0738339 ,\n",
       "          0.08792362,  0.09984587],\n",
       "        ...,\n",
       "        [ 0.02449465, -0.00072954, -0.04432441, ...,  0.00114738,\n",
       "          0.04745836, -0.07216489],\n",
       "        [-0.12156951, -0.13870583, -0.05379335, ...,  0.16172358,\n",
       "         -0.03444882, -0.0521967 ],\n",
       "        [-0.05495947,  0.02897541, -0.14076771, ..., -0.0140425 ,\n",
       "          0.01991634, -0.04203389]], dtype=float32),\n",
       " array([-0.01815205, -0.02341827, -0.00496157, -0.0170022 , -0.0168955 ,\n",
       "        -0.0131367 , -0.02045956,  0.01424492,  0.00781858,  0.01115289,\n",
       "         0.03231275, -0.03854203, -0.00167288, -0.01484928, -0.02324991,\n",
       "        -0.00347386, -0.01377119,  0.00380773, -0.01361134,  0.00756647,\n",
       "        -0.02509119,  0.00315774, -0.02242452,  0.01061057,  0.01834588,\n",
       "         0.03887269,  0.01128681, -0.01310703, -0.03902402,  0.02516324,\n",
       "         0.01255281, -0.03043091,  0.02228151,  0.01441731,  0.03446321,\n",
       "        -0.00909002,  0.00841347, -0.0233434 , -0.01586655, -0.0119323 ,\n",
       "        -0.01208858, -0.00093051,  0.00076153,  0.07443568, -0.00831744,\n",
       "         0.02587176,  0.03756753, -0.02416609, -0.01369094,  0.00446356,\n",
       "         0.02062832, -0.01714307, -0.00895149,  0.01414051, -0.01935789,\n",
       "        -0.01137139, -0.01649674, -0.00266108, -0.00991122,  0.0005428 ,\n",
       "         0.00448311,  0.00943244, -0.01134608,  0.00640179,  0.00195387,\n",
       "         0.03174937,  0.02179613, -0.01559897, -0.01720637,  0.01765641,\n",
       "        -0.0031199 , -0.0090569 , -0.02996583,  0.01220415, -0.02015481,\n",
       "        -0.0322404 ,  0.04206692, -0.00711026,  0.00702373, -0.01979836,\n",
       "         0.00859248,  0.00429495,  0.01048146,  0.00715334, -0.00803445,\n",
       "         0.00864897, -0.00237438,  0.0019269 , -0.00154943, -0.01750131,\n",
       "         0.00465493,  0.00279567, -0.01265745, -0.02315612,  0.01304178,\n",
       "        -0.00827498,  0.00214394,  0.00584032, -0.01800412, -0.01754773,\n",
       "        -0.01321613, -0.01682227,  0.00384295,  0.02865878, -0.01838638,\n",
       "         0.01821626, -0.00624791,  0.03414603, -0.0185634 ,  0.0057938 ,\n",
       "         0.00848819, -0.01582888, -0.02550891, -0.01345608, -0.00912373,\n",
       "        -0.0014468 , -0.01578342, -0.02040994, -0.02217935, -0.00419385,\n",
       "         0.01374905, -0.02866412, -0.01484611,  0.00630158,  0.00928893,\n",
       "         0.00731322, -0.00606975, -0.01459667], dtype=float32),\n",
       " array([[-0.20740607],\n",
       "        [ 0.16800901],\n",
       "        [ 0.19608486],\n",
       "        [-0.11847663],\n",
       "        [-0.21853985],\n",
       "        [-0.09291612],\n",
       "        [-0.15162131],\n",
       "        [-0.02861682],\n",
       "        [-0.4049791 ],\n",
       "        [ 0.0286276 ],\n",
       "        [ 0.10991772],\n",
       "        [-0.02883421],\n",
       "        [-0.02030823],\n",
       "        [-0.0756222 ],\n",
       "        [ 0.17188014],\n",
       "        [ 0.0316636 ],\n",
       "        [-0.07885695],\n",
       "        [ 0.154226  ],\n",
       "        [-0.05055149],\n",
       "        [-0.1883916 ],\n",
       "        [-0.10374205],\n",
       "        [-0.24847074],\n",
       "        [-0.00567136],\n",
       "        [-0.43817097],\n",
       "        [ 0.04117305],\n",
       "        [ 0.16388276],\n",
       "        [ 0.1478791 ],\n",
       "        [-0.28909916],\n",
       "        [ 0.10985198],\n",
       "        [-0.05291357],\n",
       "        [ 0.13217737],\n",
       "        [-0.1093664 ],\n",
       "        [ 0.1502249 ],\n",
       "        [ 0.17266479],\n",
       "        [ 0.11182665],\n",
       "        [-0.16190788],\n",
       "        [-0.32499745],\n",
       "        [-0.11997117],\n",
       "        [ 0.00165927],\n",
       "        [-0.21512586],\n",
       "        [ 0.10675117],\n",
       "        [-0.20789096],\n",
       "        [-0.00491693],\n",
       "        [-0.20400631],\n",
       "        [-0.19013299],\n",
       "        [ 0.15944764],\n",
       "        [ 0.03867386],\n",
       "        [-0.21498303],\n",
       "        [ 0.09728203],\n",
       "        [-0.16940534],\n",
       "        [ 0.07764661],\n",
       "        [-0.19901568],\n",
       "        [-0.26139003],\n",
       "        [ 0.19224638],\n",
       "        [-0.12982363],\n",
       "        [ 0.07349667],\n",
       "        [-0.0987253 ],\n",
       "        [ 0.07540213],\n",
       "        [ 0.05618434],\n",
       "        [-0.20228092],\n",
       "        [-0.11342148],\n",
       "        [ 0.06372894],\n",
       "        [-0.02523995],\n",
       "        [ 0.01366719],\n",
       "        [-0.20559332],\n",
       "        [ 0.21222723],\n",
       "        [ 0.20183994],\n",
       "        [-0.2557703 ],\n",
       "        [ 0.11080307],\n",
       "        [ 0.00344452],\n",
       "        [-0.11779094],\n",
       "        [-0.15529968],\n",
       "        [-0.05284633],\n",
       "        [ 0.09557194],\n",
       "        [-0.15257326],\n",
       "        [ 0.13198246],\n",
       "        [ 0.22347315],\n",
       "        [ 0.22086494],\n",
       "        [ 0.07949722],\n",
       "        [-0.01130405],\n",
       "        [-0.1952687 ],\n",
       "        [-0.10789444],\n",
       "        [-0.09962498],\n",
       "        [ 0.1843078 ],\n",
       "        [ 0.05201684],\n",
       "        [-0.02973285],\n",
       "        [-0.21438526],\n",
       "        [-0.13234195],\n",
       "        [-0.1940337 ],\n",
       "        [-0.21108672],\n",
       "        [ 0.00468452],\n",
       "        [-0.06641849],\n",
       "        [ 0.04053979],\n",
       "        [-0.05033277],\n",
       "        [-0.09250171],\n",
       "        [-0.3559889 ],\n",
       "        [-0.13009854],\n",
       "        [-0.14214024],\n",
       "        [ 0.097389  ],\n",
       "        [-0.16497493],\n",
       "        [-0.07155331],\n",
       "        [ 0.09913586],\n",
       "        [-0.11356877],\n",
       "        [ 0.17405723],\n",
       "        [ 0.20352128],\n",
       "        [ 0.17801057],\n",
       "        [-0.17164509],\n",
       "        [ 0.18698455],\n",
       "        [-0.3455774 ],\n",
       "        [-0.08732619],\n",
       "        [-0.2120792 ],\n",
       "        [ 0.13574082],\n",
       "        [-0.12271193],\n",
       "        [-0.21087384],\n",
       "        [-0.0345793 ],\n",
       "        [-0.01310595],\n",
       "        [ 0.00768598],\n",
       "        [-0.24061339],\n",
       "        [ 0.09843042],\n",
       "        [-0.10655946],\n",
       "        [ 0.09138983],\n",
       "        [-0.03406449],\n",
       "        [-0.00321128],\n",
       "        [-0.21991536],\n",
       "        [-0.07282086],\n",
       "        [-0.13129476],\n",
       "        [-0.18474364],\n",
       "        [ 0.00817454]], dtype=float32),\n",
       " array([-0.1990201], dtype=float32)]"
      ]
     },
     "execution_count": 4,
     "metadata": {},
     "output_type": "execute_result"
    }
   ],
   "source": [
    "model.get_weights()"
   ]
  },
  {
   "cell_type": "code",
   "execution_count": 5,
   "id": "5b83af5c",
   "metadata": {},
   "outputs": [],
   "source": [
    "# Step 2 : Helper Function\n",
    "# Function to decode reviews\n",
    "def decode_review(encoded_review):\n",
    "    return ' '.join([reverse_word_index.get(i-3, \"?\") for i in encoded_review])\n",
    "\n",
    "# Function to preprocess user input\n",
    "def preprocess_text(text):\n",
    "    words = text.lower().split()\n",
    "    encoded_review = [word_index.get(word, 2) + 3 for word in words]\n",
    "    padded_review = sequence.pad_sequences([encoded_review], maxlen = 500)\n",
    "    return padded_review\n"
   ]
  },
  {
   "cell_type": "code",
   "execution_count": 6,
   "id": "b5c6517e",
   "metadata": {},
   "outputs": [],
   "source": [
    "### Prediction Function\n",
    "\n",
    "def predict_sentiment(review):\n",
    "    preprocessed_input = preprocess_text(review)\n",
    "    \n",
    "    prediction = model.predict(preprocessed_input)\n",
    "    sentiment = 'Positive' if prediction[0][0] > 0.5 else 'Negative'\n",
    "    \n",
    "    return sentiment, prediction[0][0]\n",
    "\n",
    "\n",
    "    \n",
    "    "
   ]
  },
  {
   "cell_type": "code",
   "execution_count": 7,
   "id": "94a56e40",
   "metadata": {},
   "outputs": [
    {
     "name": "stdout",
     "output_type": "stream",
     "text": [
      "\u001b[1m1/1\u001b[0m \u001b[32m━━━━━━━━━━━━━━━━━━━━\u001b[0m\u001b[37m\u001b[0m \u001b[1m1s\u001b[0m 644ms/step\n",
      "Review: This movie was fantastic! The acting was great and the plot was thrilling.\n",
      "Sentiment : Positive\n",
      "Prediction Score: 0.6565217971801758\n"
     ]
    }
   ],
   "source": [
    "# Step 4: User Input and Prediction\n",
    "# Example review for prediction\n",
    "example_review = \"This movie was fantastic! The acting was great and the plot was thrilling.\"\n",
    "\n",
    "sentiment, score = predict_sentiment(example_review)\n",
    "\n",
    "print(f'Review: {example_review}')\n",
    "print(f'Sentiment : {sentiment}')\n",
    "print(f'Prediction Score: {score}')"
   ]
  },
  {
   "cell_type": "code",
   "execution_count": null,
   "id": "3f9050d1",
   "metadata": {},
   "outputs": [],
   "source": []
  }
 ],
 "metadata": {
  "kernelspec": {
   "display_name": "Python 3",
   "language": "python",
   "name": "python3"
  },
  "language_info": {
   "codemirror_mode": {
    "name": "ipython",
    "version": 3
   },
   "file_extension": ".py",
   "mimetype": "text/x-python",
   "name": "python",
   "nbconvert_exporter": "python",
   "pygments_lexer": "ipython3",
   "version": "3.11.0"
  }
 },
 "nbformat": 4,
 "nbformat_minor": 5
}
